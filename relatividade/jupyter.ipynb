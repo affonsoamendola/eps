{
 "cells": [
  {
   "cell_type": "markdown",
   "metadata": {},
   "source": [
    "The Pole-Barn Paradox\n",
    "======================\n",
    "\n",
    "Affonso Amendola, affonso.gino.neto@usp.br\n",
    "\n",
    "- This Jupyter notebook is the basis for a computational essay using Python.\n",
    "- Please modify the content below with your answers for the assignment. \n",
    "- If you never used Jupyter before, please watch this [short tutorial](https://www.youtube.com/watch?v=jZ952vChhuI) to learn the basics of Jupyter. To learn the basics of Python, the [following tutorial is useful](https://github.com/jrjohansson/scientific-python-lectures). "
   ]
  },
  {
   "cell_type": "markdown",
   "metadata": {},
   "source": [
    "The command below makes sure all plotting and array modules (numpy, matplotlib) are preloaded"
   ]
  },
  {
   "cell_type": "code",
   "execution_count": 2,
   "metadata": {},
   "outputs": [
    {
     "name": "stdout",
     "output_type": "stream",
     "text": [
      "Populating the interactive namespace from numpy and matplotlib\n"
     ]
    }
   ],
   "source": [
    "%pylab inline"
   ]
  },
  {
   "cell_type": "markdown",
   "metadata": {},
   "source": [
    "# Answer a"
   ]
  },
  {
   "cell_type": "code",
   "execution_count": 9,
   "metadata": {},
   "outputs": [
    {
     "name": "stdout",
     "output_type": "stream",
     "text": [
      "The pole is:  11.999999999999998 m long in the frame of the \n"
     ]
    }
   ],
   "source": [
    "def gamma(v):\n",
    "    #in terms of c. v goes from 0 to 1\n",
    "    return 1/(1-(v**2))**(1/2)\n",
    "\n",
    "pole_length_rest = 20\n",
    "barn_length_rest = 15\n",
    "\n",
    "c = 3e8 #m/s\n",
    "\n",
    "pole_speed = 0.8 # 0.8c\n",
    "\n",
    "pole_length_moving = pole_length_rest / gamma(0.8)\n",
    "\n",
    "print(\"The pole is: \", pole_length_moving, \"m long in the frame of the \")"
   ]
  },
  {
   "cell_type": "markdown",
   "metadata": {},
   "source": [
    "# Answer b"
   ]
  },
  {
   "cell_type": "code",
   "execution_count": 10,
   "metadata": {},
   "outputs": [
    {
     "name": "stdout",
     "output_type": "stream",
     "text": [
      "1.2500000000000008e-08\n"
     ]
    }
   ],
   "source": [
    "delta_x = barn_length_rest - pole_length_moving\n",
    "barn_time_to_collision = delta_x / (0.8 * c)\n",
    "print(\"The time interval to collision is \", barn_time_to_collision, \" it is space like.\")"
   ]
  },
  {
   "cell_type": "markdown",
   "metadata": {},
   "source": [
    "# Answer c"
   ]
  },
  {
   "cell_type": "code",
   "execution_count": 5,
   "metadata": {},
   "outputs": [
    {
     "name": "stdout",
     "output_type": "stream",
     "text": [
      "8.999999999999998\n"
     ]
    }
   ],
   "source": [
    "barn_length_flash = barn_length_rest / gamma(0.8)\n",
    "print(\"In the point of view of The Flash the barn has a length of: \",barn_length_flash, \"m\")"
   ]
  },
  {
   "cell_type": "markdown",
   "metadata": {},
   "source": [
    "# Answer d"
   ]
  },
  {
   "cell_type": "code",
   "execution_count": 11,
   "metadata": {},
   "outputs": [
    {
     "name": "stdout",
     "output_type": "stream",
     "text": [
      "No! He does'nt, in his point of view, the barn is only 9m long, so the end of the pole hits the barn while he's still outside of it\n"
     ]
    }
   ],
   "source": [
    "print(\"No! He does'nt, in his point of view, the barn is only 9m long, so the end of the pole hits the end barn while he's still outside of it\")\n"
   ]
  },
  {
   "cell_type": "markdown",
   "metadata": {},
   "source": [
    "# Answer e"
   ]
  },
  {
   "cell_type": "code",
   "execution_count": 1,
   "metadata": {},
   "outputs": [
    {
     "name": "stdout",
     "output_type": "stream",
     "text": [
      "The pole is clearly inside the barn in one of the point of views so something must happen that explains why The Flash could'nt immediatly see it, the main explanation for that is that the decelleration does not happen all at once as We would tradittionaly imagine, so while The Flash sees the pole hit the back of the barn the front of the pole stops and the rest slowly decellerate to 0 instead of instantly, allowing him to enter the barn\n"
     ]
    }
   ],
   "source": [
    "print(\"The pole is clearly inside the barn in one of the point of views so something must happen that explains why The Flash could'nt immediatly see it, the main explanation for that is that the decelleration does not happen all at once as We would tradittionaly imagine, so while The Flash sees the pole hit the back of the barn the front of the pole stops and the rest slowly decellerate to 0 instead of instantly, allowing him to enter the barn\")"
   ]
  },
  {
   "cell_type": "markdown",
   "metadata": {},
   "source": [
    "## Hints\n",
    "\n",
    "To answer the last question, you will have to plot a spacetime diagram. Here are some simple examples to get you started."
   ]
  },
  {
   "cell_type": "code",
   "execution_count": null,
   "metadata": {},
   "outputs": [],
   "source": []
  },
  {
   "cell_type": "code",
   "execution_count": null,
   "metadata": {},
   "outputs": [],
   "source": []
  }
 ],
 "metadata": {
  "kernelspec": {
   "display_name": "Python 3",
   "language": "python",
   "name": "python3"
  },
  "language_info": {
   "codemirror_mode": {
    "name": "ipython",
    "version": 3
   },
   "file_extension": ".py",
   "mimetype": "text/x-python",
   "name": "python",
   "nbconvert_exporter": "python",
   "pygments_lexer": "ipython3",
   "version": "3.7.3"
  }
 },
 "nbformat": 4,
 "nbformat_minor": 2
}
