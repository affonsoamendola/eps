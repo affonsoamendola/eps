{
 "cells": [
  {
   "cell_type": "markdown",
   "metadata": {},
   "source": [
    "The Pole-Barn Paradox\n",
    "======================\n",
    "\n",
    "Affonso Amendola, affonso.gino.neto@usp.br\n",
    "\n",
    "- This Jupyter notebook is the basis for a computational essay using Python.\n",
    "- Please modify the content below with your answers for the assignment. \n",
    "- If you never used Jupyter before, please watch this [short tutorial](https://www.youtube.com/watch?v=jZ952vChhuI) to learn the basics of Jupyter. To learn the basics of Python, the [following tutorial is useful](https://github.com/jrjohansson/scientific-python-lectures). "
   ]
  },
  {
   "cell_type": "markdown",
   "metadata": {},
   "source": [
    "The command below makes sure all plotting and array modules (numpy, matplotlib) are preloaded"
   ]
  },
  {
   "cell_type": "code",
   "execution_count": 2,
   "metadata": {},
   "outputs": [
    {
     "name": "stdout",
     "output_type": "stream",
     "text": [
      "Populating the interactive namespace from numpy and matplotlib\n"
     ]
    }
   ],
   "source": [
    "%pylab inline"
   ]
  },
  {
   "cell_type": "markdown",
   "metadata": {},
   "source": [
    "# Answer a"
   ]
  },
  {
   "cell_type": "code",
   "execution_count": 2,
   "metadata": {},
   "outputs": [
    {
     "name": "stdout",
     "output_type": "stream",
     "text": [
      "0.08333333333333334\n"
     ]
    }
   ],
   "source": [
    "def gamma(v):\n",
    "    #in terms of c. v goes from 0 to 1\n",
    "    return 1/(1-(v**2))**(1/2)\n",
    "\n",
    "pole_length_rest = 20\n",
    "pole_speed = 0.8 # 0.8c\n",
    "\n",
    "pole_length_moving = gamma(0.8) / pole_length_rest\n",
    "\n",
    "print(\"The pole is: \", pole_length_moving, \"m long in the frame of the \")"
   ]
  },
  {
   "cell_type": "markdown",
   "metadata": {},
   "source": [
    "# Answer b"
   ]
  },
  {
   "cell_type": "code",
   "execution_count": null,
   "metadata": {},
   "outputs": [],
   "source": [
    "<your answer here>"
   ]
  },
  {
   "cell_type": "markdown",
   "metadata": {},
   "source": [
    "# Answer c"
   ]
  },
  {
   "cell_type": "code",
   "execution_count": null,
   "metadata": {},
   "outputs": [],
   "source": [
    "<your answer here>"
   ]
  },
  {
   "cell_type": "markdown",
   "metadata": {},
   "source": [
    "## Hints\n",
    "\n",
    "To answer the last question, you will have to plot a spacetime diagram. Here are some simple examples to get you started."
   ]
  },
  {
   "cell_type": "code",
   "execution_count": null,
   "metadata": {},
   "outputs": [],
   "source": []
  }
 ],
 "metadata": {
  "kernelspec": {
   "display_name": "Python 3",
   "language": "python",
   "name": "python3"
  },
  "language_info": {
   "codemirror_mode": {
    "name": "ipython",
    "version": 3
   },
   "file_extension": ".py",
   "mimetype": "text/x-python",
   "name": "python",
   "nbconvert_exporter": "python",
   "pygments_lexer": "ipython3",
   "version": "3.7.3"
  }
 },
 "nbformat": 4,
 "nbformat_minor": 2
}
